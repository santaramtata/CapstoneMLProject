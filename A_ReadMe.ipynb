{
 "cells": [
  {
   "cell_type": "markdown",
   "id": "cfe51df8",
   "metadata": {},
   "source": [
    "### PROJECT: Concrete Strength Prediction using MLP Regressor"
   ]
  },
  {
   "cell_type": "markdown",
   "id": "96dd08ab",
   "metadata": {},
   "source": [
    "### NON-TECHNICAL EXPLANATION OF THE PROJECT\n",
    "Concrete is the most widely used structural material for construction today. Traditionally, concrete has been fabricated from a few well-defined components: Cement, water, fine aggregate, coarse aggregate, etc. In concrete mix design and quality control, the strength of concrete is regarded as the most important property. Many other properties of concrete, such as elastic modulus, water tightness or impermeability, resistance to weathering agents, etc.\n",
    "are directly related to the strength. The compressive strength of concrete is many times greater than other types of strength, and a  majority of concrete elements are designed to take advantage of the higher compressive strength of the material. Most often, an ultimate target in the mixture design is the 28th day compressive strength. The 28th day compressive strength is usually determined based on a standard uniaxial compression test and is accepted universally as a general index of concrete strength.\n",
    "Generally, concrete testing procedures are time consuming and experimental errors are inevitable. An attempt is made to be able to estimate the compressive strength of concrete using AI methods.\n"
   ]
  },
  {
   "cell_type": "markdown",
   "id": "c6a47221",
   "metadata": {},
   "source": [
    "### DATA\n",
    "Data Type: Multivariate\n",
    "\n",
    "Sources: \n",
    "- https://www.kaggle.com/code/ariosliew92/concrete-strength-mlpregressor?scriptVersionId=91814291&cellId=7\n",
    "  \n",
    "- Original Owner and Donor: Prof. I-Cheng Yeh, Department of Information Management,Chung-Hua University, Hsin Chu, Taiwan 30067, R.O.C., Date Donated: August 3, 2007.\n",
    "\n",
    "Data Characteristics:\n",
    "    \n",
    "- The actual concrete compressive strength (MPa) for a given mixture under a specific age (days) was determined from   laboratory. Data is in raw form (not scaled). \n",
    "\n",
    "Summary Statistics: \n",
    "\n",
    "- Number of instances (observations): 1030\n",
    "- Number of Attributes: 9\n",
    "- Attribute breakdown: 8 quantitative input variables, and 1 quantitative output variable\n",
    "- Missing Attribute Values: None"
   ]
  },
  {
   "cell_type": "markdown",
   "id": "ff6c3208",
   "metadata": {},
   "source": [
    "### MODEL\n",
    "Tried out various regression approahces avaliable under SciKit tool and chose MLP Regressor. MLP regressor is a powerful tool that uses multilayer perceptron to come up with a best fitted nonlinear line in explaining the relationship between dependent variable and independent variables by learning from the data."
   ]
  },
  {
   "cell_type": "markdown",
   "id": "03deb9eb",
   "metadata": {},
   "source": [
    "### HYPERPARAMETER OPTIMSATION\n",
    "The hyperparameters that were explored under MLP Regressor are activation function, number of neurons in each hidden layer (assuming 3 layers) and initial learning rate. "
   ]
  },
  {
   "cell_type": "markdown",
   "id": "606f2bd9",
   "metadata": {},
   "source": [
    "### RESULTS\n",
    "MLP with hidden_layer_sizes=(40, 20, 10), learning_rate_init=0.02 and activation function of 'relu' performed best."
   ]
  },
  {
   "cell_type": "code",
   "execution_count": null,
   "id": "fc255163",
   "metadata": {},
   "outputs": [],
   "source": []
  }
 ],
 "metadata": {
  "kernelspec": {
   "display_name": "Python 3 (ipykernel)",
   "language": "python",
   "name": "python3"
  },
  "language_info": {
   "codemirror_mode": {
    "name": "ipython",
    "version": 3
   },
   "file_extension": ".py",
   "mimetype": "text/x-python",
   "name": "python",
   "nbconvert_exporter": "python",
   "pygments_lexer": "ipython3",
   "version": "3.10.11"
  }
 },
 "nbformat": 4,
 "nbformat_minor": 5
}
